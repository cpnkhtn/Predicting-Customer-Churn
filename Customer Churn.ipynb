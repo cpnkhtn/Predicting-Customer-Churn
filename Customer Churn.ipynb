{
 "cells": [
  {
   "cell_type": "markdown",
   "metadata": {},
   "source": [
    "## Customer Churn Prediction using Machine Learning"
   ]
  },
  {
   "cell_type": "markdown",
   "metadata": {},
   "source": [
    "- Langkah yang akan dilakukan adalah,\n",
    "    1. Melakukan Exploratory Data Analysis\n",
    "    2. Melakukan Data Pre-Processing\n",
    "    3. Melakukan Pemodelan Machine Learning\n",
    "    4. Menentukan Model Terbaik"
   ]
  },
  {
   "cell_type": "markdown",
   "metadata": {},
   "source": [
    "#### Import Library"
   ]
  },
  {
   "cell_type": "code",
   "execution_count": 1,
   "metadata": {},
   "outputs": [],
   "source": [
    "#Importing General packages\n",
    "import pandas as pd\n",
    "import numpy as np\n",
    "import matplotlib.pyplot as plt\n",
    "import seaborn as sns\n",
    "from sklearn.preprocessing import LabelEncoder\n",
    "from sklearn.model_selection import train_test_split\n",
    "from sklearn.linear_model import LogisticRegression\n",
    "from sklearn.ensemble import RandomForestClassifier\n",
    "from sklearn.ensemble import GradientBoostingClassifier\n",
    "from sklearn.metrics import confusion_matrix, classification_report\n",
    "import pickle\n",
    "from pathlib import Path"
   ]
  },
  {
   "cell_type": "markdown",
   "metadata": {},
   "source": [
    "#### Features Explanations\n",
    "Untuk Dataset yang digunakan sudah disediakan dalam format csv, silahkan baca melalui fungsi pandas di python df_load = pd.read_csv('https://dqlab-dataset.s3-ap-southeast-1.amazonaws.com/dqlab_telco_final.csv'). Untuk detil datanya adalah sebagai berikut:\n",
    "- `UpdatedAt` Periode of Data taken\n",
    "- `customerID` Customer ID\n",
    "- `gender` Whether the customer is a male or a female `(Male, Female)`\n",
    "- `SeniorCitizen` Whether the customer is a senior citizen or not `(Yes, No)`\n",
    "- `Partner` Whether the customer has a partner or not `(Yes, No)`\n",
    "- `tenure` Number of months the customer has stayed with the company\n",
    "- `PhoneService` Whether the customer has a phone service or not `(Yes, No)`\n",
    "- `InternetService` Customer’s internet service provider `(Yes, No)`\n",
    "- `StreamingTV` Whether the customer has streaming TV or not `(Yes, No)`\n",
    "- `PaperlessBilling` Whether the customer has paperless billing or not `(Yes, No)`\n",
    "- `MonthlyCharges` The amount charged to the customer monthly\n",
    "- `TotalCharges` The total amount charged to the customer\n",
    "- `Churn` Whether the customer churned or not `(Yes, No)`"
   ]
  },
  {
   "cell_type": "markdown",
   "metadata": {},
   "source": [
    "#### Import Datasets"
   ]
  },
  {
   "cell_type": "code",
   "execution_count": 2,
   "metadata": {},
   "outputs": [
    {
     "data": {
      "text/html": [
       "<div>\n",
       "<style scoped>\n",
       "    .dataframe tbody tr th:only-of-type {\n",
       "        vertical-align: middle;\n",
       "    }\n",
       "\n",
       "    .dataframe tbody tr th {\n",
       "        vertical-align: top;\n",
       "    }\n",
       "\n",
       "    .dataframe thead th {\n",
       "        text-align: right;\n",
       "    }\n",
       "</style>\n",
       "<table border=\"1\" class=\"dataframe\">\n",
       "  <thead>\n",
       "    <tr style=\"text-align: right;\">\n",
       "      <th></th>\n",
       "      <th>UpdatedAt</th>\n",
       "      <th>customerID</th>\n",
       "      <th>gender</th>\n",
       "      <th>SeniorCitizen</th>\n",
       "      <th>Partner</th>\n",
       "      <th>tenure</th>\n",
       "      <th>PhoneService</th>\n",
       "      <th>StreamingTV</th>\n",
       "      <th>InternetService</th>\n",
       "      <th>PaperlessBilling</th>\n",
       "      <th>MonthlyCharges</th>\n",
       "      <th>TotalCharges</th>\n",
       "      <th>Churn</th>\n",
       "    </tr>\n",
       "  </thead>\n",
       "  <tbody>\n",
       "    <tr>\n",
       "      <th>0</th>\n",
       "      <td>202006</td>\n",
       "      <td>45759018157</td>\n",
       "      <td>Female</td>\n",
       "      <td>No</td>\n",
       "      <td>Yes</td>\n",
       "      <td>1</td>\n",
       "      <td>No</td>\n",
       "      <td>No</td>\n",
       "      <td>Yes</td>\n",
       "      <td>Yes</td>\n",
       "      <td>29.85</td>\n",
       "      <td>29.85</td>\n",
       "      <td>No</td>\n",
       "    </tr>\n",
       "    <tr>\n",
       "      <th>1</th>\n",
       "      <td>202006</td>\n",
       "      <td>45315483266</td>\n",
       "      <td>Male</td>\n",
       "      <td>No</td>\n",
       "      <td>Yes</td>\n",
       "      <td>60</td>\n",
       "      <td>Yes</td>\n",
       "      <td>No</td>\n",
       "      <td>No</td>\n",
       "      <td>Yes</td>\n",
       "      <td>20.50</td>\n",
       "      <td>1198.80</td>\n",
       "      <td>No</td>\n",
       "    </tr>\n",
       "    <tr>\n",
       "      <th>2</th>\n",
       "      <td>202006</td>\n",
       "      <td>45236961615</td>\n",
       "      <td>Male</td>\n",
       "      <td>No</td>\n",
       "      <td>No</td>\n",
       "      <td>5</td>\n",
       "      <td>Yes</td>\n",
       "      <td>Yes</td>\n",
       "      <td>Yes</td>\n",
       "      <td>No</td>\n",
       "      <td>104.10</td>\n",
       "      <td>541.90</td>\n",
       "      <td>Yes</td>\n",
       "    </tr>\n",
       "    <tr>\n",
       "      <th>3</th>\n",
       "      <td>202006</td>\n",
       "      <td>45929827382</td>\n",
       "      <td>Female</td>\n",
       "      <td>No</td>\n",
       "      <td>Yes</td>\n",
       "      <td>72</td>\n",
       "      <td>Yes</td>\n",
       "      <td>Yes</td>\n",
       "      <td>Yes</td>\n",
       "      <td>Yes</td>\n",
       "      <td>115.50</td>\n",
       "      <td>8312.75</td>\n",
       "      <td>No</td>\n",
       "    </tr>\n",
       "    <tr>\n",
       "      <th>4</th>\n",
       "      <td>202006</td>\n",
       "      <td>45305082233</td>\n",
       "      <td>Female</td>\n",
       "      <td>No</td>\n",
       "      <td>Yes</td>\n",
       "      <td>56</td>\n",
       "      <td>Yes</td>\n",
       "      <td>Yes</td>\n",
       "      <td>Yes</td>\n",
       "      <td>No</td>\n",
       "      <td>81.25</td>\n",
       "      <td>4620.40</td>\n",
       "      <td>No</td>\n",
       "    </tr>\n",
       "  </tbody>\n",
       "</table>\n",
       "</div>"
      ],
      "text/plain": [
       "   UpdatedAt   customerID  gender SeniorCitizen Partner  tenure PhoneService  \\\n",
       "0     202006  45759018157  Female            No     Yes       1           No   \n",
       "1     202006  45315483266    Male            No     Yes      60          Yes   \n",
       "2     202006  45236961615    Male            No      No       5          Yes   \n",
       "3     202006  45929827382  Female            No     Yes      72          Yes   \n",
       "4     202006  45305082233  Female            No     Yes      56          Yes   \n",
       "\n",
       "  StreamingTV InternetService PaperlessBilling  MonthlyCharges  TotalCharges  \\\n",
       "0          No             Yes              Yes           29.85         29.85   \n",
       "1          No              No              Yes           20.50       1198.80   \n",
       "2         Yes             Yes               No          104.10        541.90   \n",
       "3         Yes             Yes              Yes          115.50       8312.75   \n",
       "4         Yes             Yes               No           81.25       4620.40   \n",
       "\n",
       "  Churn  \n",
       "0    No  \n",
       "1    No  \n",
       "2   Yes  \n",
       "3    No  \n",
       "4    No  "
      ]
     },
     "execution_count": 2,
     "metadata": {},
     "output_type": "execute_result"
    }
   ],
   "source": [
    "#import dataset\n",
    "df_load = pd.read_csv('https://dqlab-dataset.s3-ap-southeast-1.amazonaws.com/dqlab_telco_final.csv')\n",
    "\n",
    "df_load.head()"
   ]
  },
  {
   "cell_type": "code",
   "execution_count": 3,
   "metadata": {},
   "outputs": [
    {
     "data": {
      "text/plain": [
       "(6950, 13)"
      ]
     },
     "execution_count": 3,
     "metadata": {},
     "output_type": "execute_result"
    }
   ],
   "source": [
    "df_load.shape"
   ]
  },
  {
   "cell_type": "code",
   "execution_count": 4,
   "metadata": {},
   "outputs": [
    {
     "data": {
      "text/plain": [
       "6950"
      ]
     },
     "execution_count": 4,
     "metadata": {},
     "output_type": "execute_result"
    }
   ],
   "source": [
    "df_load.customerID.nunique()"
   ]
  },
  {
   "cell_type": "markdown",
   "metadata": {},
   "source": [
    "### C. Exploratory Data Analysis\n",
    "Exploratory Data Analysis dapat dilakukan dengan beberapa cara:\n",
    "    - Univariat Analysis — analisis deskriptif dengan satu variabel.\n",
    "    - Bivariat Analysis — analisis relasi dengan dua variabel yang biasanya dengan target variabel.\n",
    "    - Multivariat Analysis — analisis yang menggunakan lebih dari atau sama dengan tiga variabel.\n",
    "Dalam kasus ini, Exploratory Data Analysis yang dilakukan adalah melihat persebaran dari:\n",
    "    - Prosentase persebaran data Churn dan tidaknya dari seluruh data\n",
    "    - Persebarang data dari variable predictor terhadap label (Churn)"
   ]
  },
  {
   "cell_type": "markdown",
   "metadata": {},
   "source": [
    "#### Memvisualisasikan Prosentase Churn"
   ]
  },
  {
   "cell_type": "code",
   "execution_count": 8,
   "metadata": {},
   "outputs": [
    {
     "data": {
      "image/png": "[encoded data removed]",
      "text/plain": [
       "<Figure size 432x288 with 1 Axes>"
      ]
     },
     "metadata": {},
     "output_type": "display_data"
    }
   ],
   "source": [
    "#Your codes here\n",
    "fig = plt.figure()\n",
    "ax = fig.add_axes([0,0,1,1])\n",
    "ax.axis('equal')\n",
    "labels = ['Yes','No']\n",
    "churn = df_load.Churn.value_counts() #menghitung banyaknya unik dari sebuah kolom\n",
    "ax.pie(churn, labels=labels, autopct='%.0f%%')\n",
    "plt.show()"
   ]
  },
  {
   "cell_type": "markdown",
   "metadata": {},
   "source": [
    "#### Exploratory Data Analysis (EDA) Variabel Numerik\n",
    "Memilih variable predictor yang bersifat numerik dan membuat plot secara bivariat, kemudian menginterpretasikannya"
   ]
  },
  {
   "cell_type": "code",
   "execution_count": 9,
   "metadata": {},
   "outputs": [
    {
     "data": {
      "image/png": "[encoded data removed]",
      "text/plain": [
       "<Figure size 1080x432 with 3 Axes>"
      ]
     },
     "metadata": {
      "needs_background": "light"
     },
     "output_type": "display_data"
    }
   ],
   "source": [
    "#creating bin in chart\n",
    "numerical_features = ['MonthlyCharges','TotalCharges','tenure']\n",
    "fig, ax = plt.subplots(1, 3, figsize=(15, 6))\n",
    "\n",
    "# Use the following code to plot two overlays of histogram per each numerical_features, use a color of blue and orange, respectively\n",
    "df_load[df_load.Churn == 'No'][numerical_features].hist(bins=20, \n",
    "                                                        color='blue', alpha=0.5, ax=ax)\n",
    "df_load[df_load.Churn == 'Yes'][numerical_features].hist(bins=20, \n",
    "                                                         color='orange', alpha=0.5, ax=ax)\n",
    "plt.show()"
   ]
  },
  {
   "cell_type": "markdown",
   "metadata": {},
   "source": [
    "#### C3. Exploratory Data Analysis (EDA) Variabel Kategorik\n",
    "Melakukan pemilihan variable predictor yang bersifat kategorik dan membuat plot secara bivariat, kemudian menginterpretasikannya."
   ]
  },
  {
   "cell_type": "code",
   "execution_count": 5,
   "metadata": {},
   "outputs": [
    {
     "data": {
      "image/png": "[encoded data removed]",
      "text/plain": [
       "<Figure size 1008x864 with 9 Axes>"
      ]
     },
     "metadata": {},
     "output_type": "display_data"
    }
   ],
   "source": [
    "sns.set(style='darkgrid')\n",
    "\n",
    "# Your code goes here\n",
    "fig, ax = plt.subplots(3, 3, figsize=(14, 12))\n",
    "sns.countplot(data=df_load, x='gender', hue='Churn', ax=ax[0][0])\n",
    "sns.countplot(data=df_load, x='Partner', hue='Churn', ax=ax[0][1])\n",
    "sns.countplot(data=df_load, x='SeniorCitizen', hue='Churn', ax=ax[0][2])\n",
    "sns.countplot(data=df_load, x='PhoneService', hue='Churn', ax=ax[1][0])\n",
    "sns.countplot(data=df_load, x='StreamingTV', hue='Churn', ax=ax[1][1])\n",
    "sns.countplot(data=df_load, x='InternetService', hue='Churn', ax=ax[1][2])\n",
    "sns.countplot(data=df_load, x='PaperlessBilling', hue='Churn', ax=ax[2][1])\n",
    "plt.tight_layout()\n",
    "plt.show()"
   ]
  },
  {
   "cell_type": "markdown",
   "metadata": {},
   "source": [
    "### Berdasarkan hasil dan analisa di atas dapat disimpulkan:\n",
    "- diketahui bahwa sebaran data secara kesuluruhan customer tidak melakukan churn, dengan detil Churn sebanyak 26% dan No Churn sebanyak 74%.\n",
    "- diketahui bahwa untuk MonthlyCharges ada kecenderungan semakin kecil nilai biaya bulanan yang dikenakan, semakin kecil juga kecenderungan untuk melakukan Churn. Untuk TotalCharges terlihat tidak ada kecenderungan apapun terhadap Churn customers. Untuk tenure ada kecenderungan semakin lama berlangganan customer, semakin kecil kecenderungan untuk melakukan Churn.\n",
    "- diketahui bahwa tidak ada perbedaan yang signifikan untuk orang melakukan churn dilihat dari faktor jenis kelamin (gender) dan layanan telfonnya (PhoneService). Akan tetapi ada kecenderungan bahwa orang yang melakukan churn adalah orang-orang yang tidak memiliki partner (partner: No), orang-orang yang statusnya adalah senior citizen(SeniorCitizen: Yes), orang-orang yang mempunyai layanan streaming TV (StreamingTV: Yes), orang-orang yang mempunyai layanan Internet (internetService: Yes) dan orang-orang yang tagihannya paperless (PaperlessBilling: Yes).\n"
   ]
  },
  {
   "cell_type": "markdown",
   "metadata": {},
   "source": [
    "### Melakukan Data PreProcessing\n",
    "#### Menghapus Unnecessary Columns dari data"
   ]
  },
  {
   "cell_type": "code",
   "execution_count": 6,
   "metadata": {},
   "outputs": [
    {
     "data": {
      "text/html": [
       "<div>\n",
       "<style scoped>\n",
       "    .dataframe tbody tr th:only-of-type {\n",
       "        vertical-align: middle;\n",
       "    }\n",
       "\n",
       "    .dataframe tbody tr th {\n",
       "        vertical-align: top;\n",
       "    }\n",
       "\n",
       "    .dataframe thead th {\n",
       "        text-align: right;\n",
       "    }\n",
       "</style>\n",
       "<table border=\"1\" class=\"dataframe\">\n",
       "  <thead>\n",
       "    <tr style=\"text-align: right;\">\n",
       "      <th></th>\n",
       "      <th>gender</th>\n",
       "      <th>SeniorCitizen</th>\n",
       "      <th>Partner</th>\n",
       "      <th>tenure</th>\n",
       "      <th>PhoneService</th>\n",
       "      <th>StreamingTV</th>\n",
       "      <th>InternetService</th>\n",
       "      <th>PaperlessBilling</th>\n",
       "      <th>MonthlyCharges</th>\n",
       "      <th>TotalCharges</th>\n",
       "      <th>Churn</th>\n",
       "    </tr>\n",
       "  </thead>\n",
       "  <tbody>\n",
       "    <tr>\n",
       "      <th>0</th>\n",
       "      <td>Female</td>\n",
       "      <td>No</td>\n",
       "      <td>Yes</td>\n",
       "      <td>1</td>\n",
       "      <td>No</td>\n",
       "      <td>No</td>\n",
       "      <td>Yes</td>\n",
       "      <td>Yes</td>\n",
       "      <td>29.85</td>\n",
       "      <td>29.85</td>\n",
       "      <td>No</td>\n",
       "    </tr>\n",
       "    <tr>\n",
       "      <th>1</th>\n",
       "      <td>Male</td>\n",
       "      <td>No</td>\n",
       "      <td>Yes</td>\n",
       "      <td>60</td>\n",
       "      <td>Yes</td>\n",
       "      <td>No</td>\n",
       "      <td>No</td>\n",
       "      <td>Yes</td>\n",
       "      <td>20.50</td>\n",
       "      <td>1198.80</td>\n",
       "      <td>No</td>\n",
       "    </tr>\n",
       "    <tr>\n",
       "      <th>2</th>\n",
       "      <td>Male</td>\n",
       "      <td>No</td>\n",
       "      <td>No</td>\n",
       "      <td>5</td>\n",
       "      <td>Yes</td>\n",
       "      <td>Yes</td>\n",
       "      <td>Yes</td>\n",
       "      <td>No</td>\n",
       "      <td>104.10</td>\n",
       "      <td>541.90</td>\n",
       "      <td>Yes</td>\n",
       "    </tr>\n",
       "    <tr>\n",
       "      <th>3</th>\n",
       "      <td>Female</td>\n",
       "      <td>No</td>\n",
       "      <td>Yes</td>\n",
       "      <td>72</td>\n",
       "      <td>Yes</td>\n",
       "      <td>Yes</td>\n",
       "      <td>Yes</td>\n",
       "      <td>Yes</td>\n",
       "      <td>115.50</td>\n",
       "      <td>8312.75</td>\n",
       "      <td>No</td>\n",
       "    </tr>\n",
       "    <tr>\n",
       "      <th>4</th>\n",
       "      <td>Female</td>\n",
       "      <td>No</td>\n",
       "      <td>Yes</td>\n",
       "      <td>56</td>\n",
       "      <td>Yes</td>\n",
       "      <td>Yes</td>\n",
       "      <td>Yes</td>\n",
       "      <td>No</td>\n",
       "      <td>81.25</td>\n",
       "      <td>4620.40</td>\n",
       "      <td>No</td>\n",
       "    </tr>\n",
       "  </tbody>\n",
       "</table>\n",
       "</div>"
      ],
      "text/plain": [
       "   gender SeniorCitizen Partner  tenure PhoneService StreamingTV  \\\n",
       "0  Female            No     Yes       1           No          No   \n",
       "1    Male            No     Yes      60          Yes          No   \n",
       "2    Male            No      No       5          Yes         Yes   \n",
       "3  Female            No     Yes      72          Yes         Yes   \n",
       "4  Female            No     Yes      56          Yes         Yes   \n",
       "\n",
       "  InternetService PaperlessBilling  MonthlyCharges  TotalCharges Churn  \n",
       "0             Yes              Yes           29.85         29.85    No  \n",
       "1              No              Yes           20.50       1198.80    No  \n",
       "2             Yes               No          104.10        541.90   Yes  \n",
       "3             Yes              Yes          115.50       8312.75    No  \n",
       "4             Yes               No           81.25       4620.40    No  "
      ]
     },
     "execution_count": 6,
     "metadata": {},
     "output_type": "execute_result"
    }
   ],
   "source": [
    "#Remove the unnecessary columns customerID & UpdatedAt\n",
    "cleaned_df = df_load.drop(['customerID','UpdatedAt'], axis=1)\n",
    "cleaned_df.head()"
   ]
  },
  {
   "cell_type": "markdown",
   "metadata": {},
   "source": [
    "#### Encoding Data"
   ]
  },
  {
   "cell_type": "code",
   "execution_count": 7,
   "metadata": {},
   "outputs": [
    {
     "data": {
      "text/html": [
       "<div>\n",
       "<style scoped>\n",
       "    .dataframe tbody tr th:only-of-type {\n",
       "        vertical-align: middle;\n",
       "    }\n",
       "\n",
       "    .dataframe tbody tr th {\n",
       "        vertical-align: top;\n",
       "    }\n",
       "\n",
       "    .dataframe thead th {\n",
       "        text-align: right;\n",
       "    }\n",
       "</style>\n",
       "<table border=\"1\" class=\"dataframe\">\n",
       "  <thead>\n",
       "    <tr style=\"text-align: right;\">\n",
       "      <th></th>\n",
       "      <th>gender</th>\n",
       "      <th>SeniorCitizen</th>\n",
       "      <th>Partner</th>\n",
       "      <th>tenure</th>\n",
       "      <th>PhoneService</th>\n",
       "      <th>StreamingTV</th>\n",
       "      <th>InternetService</th>\n",
       "      <th>PaperlessBilling</th>\n",
       "      <th>MonthlyCharges</th>\n",
       "      <th>TotalCharges</th>\n",
       "      <th>Churn</th>\n",
       "    </tr>\n",
       "  </thead>\n",
       "  <tbody>\n",
       "    <tr>\n",
       "      <th>count</th>\n",
       "      <td>6950.000000</td>\n",
       "      <td>6950.000000</td>\n",
       "      <td>6950.000000</td>\n",
       "      <td>6950.000000</td>\n",
       "      <td>6950.000000</td>\n",
       "      <td>6950.000000</td>\n",
       "      <td>6950.000000</td>\n",
       "      <td>6950.000000</td>\n",
       "      <td>6950.000000</td>\n",
       "      <td>6950.000000</td>\n",
       "      <td>6950.000000</td>\n",
       "    </tr>\n",
       "    <tr>\n",
       "      <th>mean</th>\n",
       "      <td>0.504317</td>\n",
       "      <td>0.162302</td>\n",
       "      <td>0.483309</td>\n",
       "      <td>32.415827</td>\n",
       "      <td>0.903741</td>\n",
       "      <td>0.384317</td>\n",
       "      <td>0.783453</td>\n",
       "      <td>0.591942</td>\n",
       "      <td>64.992201</td>\n",
       "      <td>2286.058750</td>\n",
       "      <td>0.264173</td>\n",
       "    </tr>\n",
       "    <tr>\n",
       "      <th>std</th>\n",
       "      <td>0.500017</td>\n",
       "      <td>0.368754</td>\n",
       "      <td>0.499757</td>\n",
       "      <td>24.561336</td>\n",
       "      <td>0.294967</td>\n",
       "      <td>0.486468</td>\n",
       "      <td>0.411921</td>\n",
       "      <td>0.491509</td>\n",
       "      <td>30.032040</td>\n",
       "      <td>2265.702553</td>\n",
       "      <td>0.440923</td>\n",
       "    </tr>\n",
       "    <tr>\n",
       "      <th>min</th>\n",
       "      <td>0.000000</td>\n",
       "      <td>0.000000</td>\n",
       "      <td>0.000000</td>\n",
       "      <td>0.000000</td>\n",
       "      <td>0.000000</td>\n",
       "      <td>0.000000</td>\n",
       "      <td>0.000000</td>\n",
       "      <td>0.000000</td>\n",
       "      <td>0.000000</td>\n",
       "      <td>19.000000</td>\n",
       "      <td>0.000000</td>\n",
       "    </tr>\n",
       "    <tr>\n",
       "      <th>25%</th>\n",
       "      <td>0.000000</td>\n",
       "      <td>0.000000</td>\n",
       "      <td>0.000000</td>\n",
       "      <td>9.000000</td>\n",
       "      <td>1.000000</td>\n",
       "      <td>0.000000</td>\n",
       "      <td>1.000000</td>\n",
       "      <td>0.000000</td>\n",
       "      <td>36.462500</td>\n",
       "      <td>406.975000</td>\n",
       "      <td>0.000000</td>\n",
       "    </tr>\n",
       "    <tr>\n",
       "      <th>50%</th>\n",
       "      <td>1.000000</td>\n",
       "      <td>0.000000</td>\n",
       "      <td>0.000000</td>\n",
       "      <td>29.000000</td>\n",
       "      <td>1.000000</td>\n",
       "      <td>0.000000</td>\n",
       "      <td>1.000000</td>\n",
       "      <td>1.000000</td>\n",
       "      <td>70.450000</td>\n",
       "      <td>1400.850000</td>\n",
       "      <td>0.000000</td>\n",
       "    </tr>\n",
       "    <tr>\n",
       "      <th>75%</th>\n",
       "      <td>1.000000</td>\n",
       "      <td>0.000000</td>\n",
       "      <td>1.000000</td>\n",
       "      <td>55.000000</td>\n",
       "      <td>1.000000</td>\n",
       "      <td>1.000000</td>\n",
       "      <td>1.000000</td>\n",
       "      <td>1.000000</td>\n",
       "      <td>89.850000</td>\n",
       "      <td>3799.837500</td>\n",
       "      <td>1.000000</td>\n",
       "    </tr>\n",
       "    <tr>\n",
       "      <th>max</th>\n",
       "      <td>1.000000</td>\n",
       "      <td>1.000000</td>\n",
       "      <td>1.000000</td>\n",
       "      <td>73.000000</td>\n",
       "      <td>1.000000</td>\n",
       "      <td>1.000000</td>\n",
       "      <td>1.000000</td>\n",
       "      <td>1.000000</td>\n",
       "      <td>169.931250</td>\n",
       "      <td>8889.131250</td>\n",
       "      <td>1.000000</td>\n",
       "    </tr>\n",
       "  </tbody>\n",
       "</table>\n",
       "</div>"
      ],
      "text/plain": [
       "            gender  SeniorCitizen      Partner       tenure  PhoneService  \\\n",
       "count  6950.000000    6950.000000  6950.000000  6950.000000   6950.000000   \n",
       "mean      0.504317       0.162302     0.483309    32.415827      0.903741   \n",
       "std       0.500017       0.368754     0.499757    24.561336      0.294967   \n",
       "min       0.000000       0.000000     0.000000     0.000000      0.000000   \n",
       "25%       0.000000       0.000000     0.000000     9.000000      1.000000   \n",
       "50%       1.000000       0.000000     0.000000    29.000000      1.000000   \n",
       "75%       1.000000       0.000000     1.000000    55.000000      1.000000   \n",
       "max       1.000000       1.000000     1.000000    73.000000      1.000000   \n",
       "\n",
       "       StreamingTV  InternetService  PaperlessBilling  MonthlyCharges  \\\n",
       "count  6950.000000      6950.000000       6950.000000     6950.000000   \n",
       "mean      0.384317         0.783453          0.591942       64.992201   \n",
       "std       0.486468         0.411921          0.491509       30.032040   \n",
       "min       0.000000         0.000000          0.000000        0.000000   \n",
       "25%       0.000000         1.000000          0.000000       36.462500   \n",
       "50%       0.000000         1.000000          1.000000       70.450000   \n",
       "75%       1.000000         1.000000          1.000000       89.850000   \n",
       "max       1.000000         1.000000          1.000000      169.931250   \n",
       "\n",
       "       TotalCharges        Churn  \n",
       "count   6950.000000  6950.000000  \n",
       "mean    2286.058750     0.264173  \n",
       "std     2265.702553     0.440923  \n",
       "min       19.000000     0.000000  \n",
       "25%      406.975000     0.000000  \n",
       "50%     1400.850000     0.000000  \n",
       "75%     3799.837500     1.000000  \n",
       "max     8889.131250     1.000000  "
      ]
     },
     "execution_count": 7,
     "metadata": {},
     "output_type": "execute_result"
    }
   ],
   "source": [
    "#Convert all the non-numeric columns to numerical data types\n",
    "for column in cleaned_df.columns:\n",
    "    if cleaned_df[column].dtype == np.number: continue\n",
    "    # Perform encoding for each non-numeric column\n",
    "    cleaned_df[column] = LabelEncoder().fit_transform(cleaned_df[column])\n",
    "\n",
    "cleaned_df.describe()"
   ]
  },
  {
   "cell_type": "markdown",
   "metadata": {},
   "source": [
    "#### Splitting Dataset"
   ]
  },
  {
   "cell_type": "code",
   "execution_count": 8,
   "metadata": {},
   "outputs": [],
   "source": [
    "# Predictor dan target\n",
    "X = cleaned_df.drop('Churn', axis = 1)\n",
    "y = cleaned_df['Churn']\n",
    "\n",
    "# Splitting train and test\n",
    "x_train, x_test, y_train, y_test = train_test_split(X, y, test_size=0.3, random_state=42)"
   ]
  },
  {
   "cell_type": "code",
   "execution_count": 9,
   "metadata": {},
   "outputs": [
    {
     "name": "stdout",
     "output_type": "stream",
     "text": [
      "Jumlah baris dan kolom dari x_train adalah: (4865, 10) , sedangkan Jumlah baris dan kolom dari y_train adalah: (4865,)\n",
      "Prosentase Churn di data Training adalah:\n",
      "0    0.734841\n",
      "1    0.265159\n",
      "Name: Churn, dtype: float64\n",
      "Jumlah baris dan kolom dari x_test adalah: (2085, 10) , sedangkan Jumlah baris dan kolom dari y_test adalah: (2085,)\n",
      "Prosentase Churn di data Testing adalah:\n",
      "0    0.738129\n",
      "1    0.261871\n",
      "Name: Churn, dtype: float64\n"
     ]
    }
   ],
   "source": [
    "# Print according to the expected result\n",
    "print('Jumlah baris dan kolom dari x_train adalah:', x_train.shape,', sedangkan Jumlah baris dan kolom dari y_train adalah:', y_train.shape)\n",
    "print('Prosentase Churn di data Training adalah:')\n",
    "print(y_train.value_counts(normalize=True))\n",
    "print('Jumlah baris dan kolom dari x_test adalah:', x_test.shape,', sedangkan Jumlah baris dan kolom dari y_test adalah:', y_test.shape)\n",
    "print('Prosentase Churn di data Testing adalah:')\n",
    "print(y_test.value_counts(normalize=True))"
   ]
  },
  {
   "cell_type": "markdown",
   "metadata": {},
   "source": [
    "## Modelling: Logistic Regression\n",
    "### Pembuatan Model\n",
    "Membuat model dengan menggunakan Algoritma **Logistic Regression**."
   ]
  },
  {
   "cell_type": "code",
   "execution_count": 11,
   "metadata": {},
   "outputs": [
    {
     "name": "stdout",
     "output_type": "stream",
     "text": [
      "Model Logistic Regression yang terbentuk adalah: \n",
      " LogisticRegression()\n"
     ]
    },
    {
     "name": "stderr",
     "output_type": "stream",
     "text": [
      "C:\\Users\\ASUS\\anaconda3\\lib\\site-packages\\sklearn\\linear_model\\_logistic.py:762: ConvergenceWarning: lbfgs failed to converge (status=1):\n",
      "STOP: TOTAL NO. of ITERATIONS REACHED LIMIT.\n",
      "\n",
      "Increase the number of iterations (max_iter) or scale the data as shown in:\n",
      "    https://scikit-learn.org/stable/modules/preprocessing.html\n",
      "Please also refer to the documentation for alternative solver options:\n",
      "    https://scikit-learn.org/stable/modules/linear_model.html#logistic-regression\n",
      "  n_iter_i = _check_optimize_result(\n"
     ]
    }
   ],
   "source": [
    "log_model = LogisticRegression().fit(x_train, y_train)\n",
    "print('Model Logistic Regression yang terbentuk adalah: \\n',log_model)"
   ]
  },
  {
   "cell_type": "markdown",
   "metadata": {},
   "source": [
    "### Performansi Model Training - Menampilkan Metrics\n",
    "Setelah kita membuat modelnya, maka lakukan perhitungan untuk memperoleh classification reportnya dan confusion matrixnya di data training seperti hasil di bawah ini. Gunakan **`classification_report()`** & **`confusion_matrix()`**."
   ]
  },
  {
   "cell_type": "code",
   "execution_count": 14,
   "metadata": {},
   "outputs": [
    {
     "name": "stdout",
     "output_type": "stream",
     "text": [
      "Classification Report Training Model (Logistic Regression) :\n",
      "              precision    recall  f1-score   support\n",
      "\n",
      "           0       0.83      0.91      0.87      3575\n",
      "           1       0.65      0.49      0.56      1290\n",
      "\n",
      "    accuracy                           0.80      4865\n",
      "   macro avg       0.74      0.70      0.72      4865\n",
      "weighted avg       0.78      0.80      0.79      4865\n",
      "\n"
     ]
    }
   ],
   "source": [
    "# Predict\n",
    "y_train_pred = log_model.predict(x_train)\n",
    "\n",
    "# Print classification report\n",
    "print('Classification Report Training Model (Logistic Regression) :')\n",
    "print(classification_report(y_train, y_train_pred))"
   ]
  },
  {
   "cell_type": "markdown",
   "metadata": {},
   "source": [
    "### Performansi Model Training - Menampilkan Plots\n",
    "Setelah mendapatkan hasil classification report pada tahap sebelumnya, sekarang kita akan melakukan visualisasi terhadap report tersebut. "
   ]
  },
  {
   "cell_type": "code",
   "execution_count": 17,
   "metadata": {},
   "outputs": [
    {
     "data": {
      "text/html": [
       "<div>\n",
       "<style scoped>\n",
       "    .dataframe tbody tr th:only-of-type {\n",
       "        vertical-align: middle;\n",
       "    }\n",
       "\n",
       "    .dataframe tbody tr th {\n",
       "        vertical-align: top;\n",
       "    }\n",
       "\n",
       "    .dataframe thead th {\n",
       "        text-align: right;\n",
       "    }\n",
       "</style>\n",
       "<table border=\"1\" class=\"dataframe\">\n",
       "  <thead>\n",
       "    <tr style=\"text-align: right;\">\n",
       "      <th></th>\n",
       "      <th>No churn</th>\n",
       "      <th>Churn</th>\n",
       "    </tr>\n",
       "  </thead>\n",
       "  <tbody>\n",
       "    <tr>\n",
       "      <th>No churn</th>\n",
       "      <td>3237</td>\n",
       "      <td>338</td>\n",
       "    </tr>\n",
       "    <tr>\n",
       "      <th>Churn</th>\n",
       "      <td>652</td>\n",
       "      <td>638</td>\n",
       "    </tr>\n",
       "  </tbody>\n",
       "</table>\n",
       "</div>"
      ],
      "text/plain": [
       "          No churn  Churn\n",
       "No churn      3237    338\n",
       "Churn          652    638"
      ]
     },
     "execution_count": 17,
     "metadata": {},
     "output_type": "execute_result"
    }
   ],
   "source": [
    "# Form confusion matrix as a DataFrame\n",
    "confusion_matrix_df = pd.DataFrame((confusion_matrix(y_train, y_train_pred)), ('No churn', 'Churn'), ('No churn', 'Churn'))\n",
    "confusion_matrix_df"
   ]
  },
  {
   "cell_type": "code",
   "execution_count": 16,
   "metadata": {},
   "outputs": [
    {
     "data": {
      "image/png": "[encoded data removed]",
      "text/plain": [
       "<Figure size 432x288 with 2 Axes>"
      ]
     },
     "metadata": {},
     "output_type": "display_data"
    }
   ],
   "source": [
    "# Plot confusion matrix\n",
    "plt.figure()\n",
    "heatmap = sns.heatmap(confusion_matrix_df, annot=True, annot_kws={'size': 14}, fmt='d', cmap='YlGnBu')\n",
    "heatmap.yaxis.set_ticklabels(heatmap.yaxis.get_ticklabels(), rotation=0, ha='right', fontsize=14)\n",
    "heatmap.xaxis.set_ticklabels(heatmap.xaxis.get_ticklabels(), rotation=0, ha='right', fontsize=14)\n",
    "\n",
    "plt.title('Confusion Matrix for Training Model\\n(Logistic Regression)', fontsize=18, color='darkblue')\n",
    "plt.ylabel('True label', fontsize=14)\n",
    "plt.xlabel('Predicted label', fontsize=14)\n",
    "plt.show()"
   ]
  },
  {
   "cell_type": "markdown",
   "metadata": {},
   "source": [
    "### Performansi Data Testing - Menampilkan Metrics\n",
    "Maka lakukan perhitungan untuk memperoleh classification report dan confusion matrix di data testing"
   ]
  },
  {
   "cell_type": "code",
   "execution_count": 18,
   "metadata": {},
   "outputs": [
    {
     "name": "stdout",
     "output_type": "stream",
     "text": [
      "Classification Report Testing Model (Logistic Regression):\n",
      "              precision    recall  f1-score   support\n",
      "\n",
      "           0       0.83      0.91      0.87      1539\n",
      "           1       0.64      0.48      0.55       546\n",
      "\n",
      "    accuracy                           0.79      2085\n",
      "   macro avg       0.74      0.69      0.71      2085\n",
      "weighted avg       0.78      0.79      0.78      2085\n",
      "\n"
     ]
    }
   ],
   "source": [
    "# Predict\n",
    "y_test_pred = log_model.predict(x_test)\n",
    "\n",
    "# Print classification report\n",
    "print('Classification Report Testing Model (Logistic Regression):')\n",
    "print(classification_report(y_test, y_test_pred))"
   ]
  },
  {
   "cell_type": "markdown",
   "metadata": {},
   "source": [
    "### Performansi Data Testing - Menampilkan Plots\n",
    "Setelah menampilkan metrics pada tahap sebelumnya, sekarang kita akan melakukan visualisasi dari metrics yang sudah dihasilkan sebelumnya"
   ]
  },
  {
   "cell_type": "code",
   "execution_count": 19,
   "metadata": {},
   "outputs": [
    {
     "data": {
      "text/html": [
       "<div>\n",
       "<style scoped>\n",
       "    .dataframe tbody tr th:only-of-type {\n",
       "        vertical-align: middle;\n",
       "    }\n",
       "\n",
       "    .dataframe tbody tr th {\n",
       "        vertical-align: top;\n",
       "    }\n",
       "\n",
       "    .dataframe thead th {\n",
       "        text-align: right;\n",
       "    }\n",
       "</style>\n",
       "<table border=\"1\" class=\"dataframe\">\n",
       "  <thead>\n",
       "    <tr style=\"text-align: right;\">\n",
       "      <th></th>\n",
       "      <th>No churn</th>\n",
       "      <th>Churn</th>\n",
       "    </tr>\n",
       "  </thead>\n",
       "  <tbody>\n",
       "    <tr>\n",
       "      <th>No churn</th>\n",
       "      <td>1393</td>\n",
       "      <td>146</td>\n",
       "    </tr>\n",
       "    <tr>\n",
       "      <th>Churn</th>\n",
       "      <td>282</td>\n",
       "      <td>264</td>\n",
       "    </tr>\n",
       "  </tbody>\n",
       "</table>\n",
       "</div>"
      ],
      "text/plain": [
       "          No churn  Churn\n",
       "No churn      1393    146\n",
       "Churn          282    264"
      ]
     },
     "execution_count": 19,
     "metadata": {},
     "output_type": "execute_result"
    }
   ],
   "source": [
    "# Form confusion matrix as a DataFrame\n",
    "confusion_matrix_df = pd.DataFrame((confusion_matrix(y_test, y_test_pred)), ('No churn', 'Churn'), ('No churn', 'Churn'))\n",
    "confusion_matrix_df"
   ]
  },
  {
   "cell_type": "code",
   "execution_count": 20,
   "metadata": {},
   "outputs": [
    {
     "data": {
      "image/png": "[encoded data removed]",
      "text/plain": [
       "<Figure size 432x288 with 2 Axes>"
      ]
     },
     "metadata": {},
     "output_type": "display_data"
    }
   ],
   "source": [
    "# Plot confusion matrix\n",
    "plt.figure()\n",
    "heatmap = sns.heatmap(confusion_matrix_df, annot=True, annot_kws={'size': 14}, fmt='d', cmap='YlGnBu')\n",
    "heatmap.yaxis.set_ticklabels(heatmap.yaxis.get_ticklabels(), rotation=0, ha='right', fontsize=14)\n",
    "heatmap.xaxis.set_ticklabels(heatmap.xaxis.get_ticklabels(), rotation=0, ha='right', fontsize=14)\n",
    "\n",
    "plt.title('Confusion Matrix for Testing Model\\n(Logistic Regression)\\n', fontsize=18, color='darkblue')\n",
    "plt.ylabel('True label', fontsize=14)\n",
    "plt.xlabel('Predicted label', fontsize=14)\n",
    "plt.show()"
   ]
  },
  {
   "cell_type": "markdown",
   "metadata": {},
   "source": [
    "## Kesimpulan\n",
    "Dari hasil dan analisa di atas, maka:\n",
    "- Dari data training terlihat bahwasannya model mampu memprediksi data dengan menghasilkan akurasi sebesar **80%**, dengan detil tebakan churn yang sebenernya benar churn adalah **638**, tebakan tidak churn yang sebenernya tidak churn adalah **3237**, tebakan tidak churn yang sebenernya benar churn adalah **652** dan tebakan churn yang sebenernya tidak churn adalah **338**.\n",
    "- Dari data testing terlihat bahwasannya model mampu memprediksi data dengan menghasilkan akurasi sebesar **79%**, dengan detil tebakan churn yang sebenernya benar churn adalah **264**, tebakan tidak churn yang sebenernya tidak churn adalah **1392**, tebakan tidak churn yang sebenernya benar churn adalah **282** dan tebakan churn yang sebenernya tidak churn adalah **146**."
   ]
  },
  {
   "cell_type": "markdown",
   "metadata": {},
   "source": [
    "## Modelling : Random Forest Classifier\n",
    "### Pembuatan Model\n",
    "Membuat model dengan menggunakan Algoritma **Random Forest Classifier**."
   ]
  },
  {
   "cell_type": "code",
   "execution_count": 21,
   "metadata": {},
   "outputs": [],
   "source": [
    "#Train the model\n",
    "rdf_model = RandomForestClassifier().fit(x_train, y_train)"
   ]
  },
  {
   "cell_type": "markdown",
   "metadata": {},
   "source": [
    "### Performansi Data Training - Menampilkan Metrics\n",
    "Melakukan perhitungan untuk memperoleh classification report dan confusion matrix di data training"
   ]
  },
  {
   "cell_type": "code",
   "execution_count": 22,
   "metadata": {},
   "outputs": [
    {
     "name": "stdout",
     "output_type": "stream",
     "text": [
      "Classification Report Training Model (Random Forest) :\n",
      "              precision    recall  f1-score   support\n",
      "\n",
      "           0       1.00      1.00      1.00      3575\n",
      "           1       0.99      0.99      0.99      1290\n",
      "\n",
      "    accuracy                           1.00      4865\n",
      "   macro avg       1.00      0.99      0.99      4865\n",
      "weighted avg       1.00      1.00      1.00      4865\n",
      "\n"
     ]
    }
   ],
   "source": [
    "y_train_pred = rdf_model.predict(x_train)\n",
    "\n",
    "print('Classification Report Training Model (Random Forest) :')\n",
    "print(classification_report(y_train, y_train_pred))"
   ]
  },
  {
   "cell_type": "markdown",
   "metadata": {},
   "source": [
    "### Performansi Data Training - Menampilkan Plots\n",
    "Setelah menampilkan metrics pada tahap sebelumnya, selanjutnya kita akan melakukan visualisasi terhadap metrics tersebut "
   ]
  },
  {
   "cell_type": "code",
   "execution_count": 23,
   "metadata": {},
   "outputs": [
    {
     "data": {
      "text/html": [
       "<div>\n",
       "<style scoped>\n",
       "    .dataframe tbody tr th:only-of-type {\n",
       "        vertical-align: middle;\n",
       "    }\n",
       "\n",
       "    .dataframe tbody tr th {\n",
       "        vertical-align: top;\n",
       "    }\n",
       "\n",
       "    .dataframe thead th {\n",
       "        text-align: right;\n",
       "    }\n",
       "</style>\n",
       "<table border=\"1\" class=\"dataframe\">\n",
       "  <thead>\n",
       "    <tr style=\"text-align: right;\">\n",
       "      <th></th>\n",
       "      <th>No churn</th>\n",
       "      <th>Churn</th>\n",
       "    </tr>\n",
       "  </thead>\n",
       "  <tbody>\n",
       "    <tr>\n",
       "      <th>No churn</th>\n",
       "      <td>3567</td>\n",
       "      <td>8</td>\n",
       "    </tr>\n",
       "    <tr>\n",
       "      <th>Churn</th>\n",
       "      <td>13</td>\n",
       "      <td>1277</td>\n",
       "    </tr>\n",
       "  </tbody>\n",
       "</table>\n",
       "</div>"
      ],
      "text/plain": [
       "          No churn  Churn\n",
       "No churn      3567      8\n",
       "Churn           13   1277"
      ]
     },
     "execution_count": 23,
     "metadata": {},
     "output_type": "execute_result"
    }
   ],
   "source": [
    "# Form confusion matrix as a DataFrame\n",
    "confusion_matrix_df = pd.DataFrame((confusion_matrix(y_train, y_train_pred)), ('No churn', 'Churn'), ('No churn', 'Churn'))\n",
    "confusion_matrix_df"
   ]
  },
  {
   "cell_type": "code",
   "execution_count": 24,
   "metadata": {},
   "outputs": [
    {
     "data": {
      "image/png": "[encoded data removed]",
      "text/plain": [
       "<Figure size 432x288 with 2 Axes>"
      ]
     },
     "metadata": {},
     "output_type": "display_data"
    }
   ],
   "source": [
    "# Plot confusion matrix\n",
    "plt.figure()\n",
    "heatmap = sns.heatmap(confusion_matrix_df, annot=True, annot_kws={'size': 14}, fmt='d', cmap='YlGnBu')\n",
    "heatmap.yaxis.set_ticklabels(heatmap.yaxis.get_ticklabels(), rotation=0, ha='right', fontsize=14)\n",
    "heatmap.xaxis.set_ticklabels(heatmap.xaxis.get_ticklabels(), rotation=0, ha='right', fontsize=14)\n",
    "\n",
    "plt.title('Confusion Matrix for Training Model\\n(Random Forest)', fontsize=18, color='darkblue')\n",
    "plt.ylabel('True label', fontsize=14)\n",
    "plt.xlabel('Predicted label', fontsize=14)\n",
    "plt.show()"
   ]
  },
  {
   "cell_type": "markdown",
   "metadata": {},
   "source": [
    "### Performansi Data Testing - Menampilkan Metrics\n",
    "Melakukan perhitungan untuk memperoleh classification report dan confusion matrix di data testing"
   ]
  },
  {
   "cell_type": "code",
   "execution_count": 26,
   "metadata": {},
   "outputs": [
    {
     "name": "stdout",
     "output_type": "stream",
     "text": [
      "Classification Report Testing Model (Random Forest Classifier):\n",
      "              precision    recall  f1-score   support\n",
      "\n",
      "           0       0.83      0.88      0.85      1539\n",
      "           1       0.59      0.49      0.53       546\n",
      "\n",
      "    accuracy                           0.78      2085\n",
      "   macro avg       0.71      0.68      0.69      2085\n",
      "weighted avg       0.77      0.78      0.77      2085\n",
      "\n"
     ]
    }
   ],
   "source": [
    "# Predict\n",
    "y_test_pred = rdf_model.predict(x_test)\n",
    "\n",
    "# Print classification report\n",
    "print('Classification Report Testing Model (Random Forest Classifier):')\n",
    "print(classification_report(y_test, y_test_pred))"
   ]
  },
  {
   "cell_type": "markdown",
   "metadata": {},
   "source": [
    "### Performansi Data Testing - Menampilkan Plots\n",
    "Tampilkan visualisasi dari hasil metrics yang sudah diperoleh pada tahap sebelumnya"
   ]
  },
  {
   "cell_type": "code",
   "execution_count": 24,
   "metadata": {},
   "outputs": [
    {
     "data": {
      "image/png": "[encoded data removed]",
      "text/plain": [
       "<Figure size 432x288 with 2 Axes>"
      ]
     },
     "metadata": {},
     "output_type": "display_data"
    }
   ],
   "source": [
    "# Form confusion matrix as a DataFrame\n",
    "confusion_matrix_df = pd.DataFrame((confusion_matrix(y_test, y_test_pred)), ('No churn', 'Churn'), ('No churn', 'Churn'))\n",
    "\n",
    "# Plot confusion matrix\n",
    "plt.figure()\n",
    "heatmap = sns.heatmap(confusion_matrix_df, annot=True, annot_kws={'size': 14}, fmt='d', cmap='YlGnBu')\n",
    "heatmap.yaxis.set_ticklabels(heatmap.yaxis.get_ticklabels(), rotation=0, ha='right', fontsize=14)\n",
    "heatmap.xaxis.set_ticklabels(heatmap.xaxis.get_ticklabels(), rotation=0, ha='right', fontsize=14)\n",
    "\n",
    "plt.title('Confusion Matrix for Testing Model\\n(Random Forest)\\n', fontsize=18, color='darkblue')\n",
    "plt.ylabel('True label', fontsize=14)\n",
    "plt.xlabel('Predicted label', fontsize=14)\n",
    "plt.show()"
   ]
  },
  {
   "cell_type": "markdown",
   "metadata": {},
   "source": [
    "## Kesimpulan\n",
    "Dari hasil dan analisa di atas, maka:\n",
    "- Dari data training terlihat bahwasannya model mampu memprediksi data dengan menghasilkan akurasi sebesar **100%**, dengan detil tebakan churn yang sebenernya benar churn adalah **1278**, tebakan tidak churn yang sebenernya tidak churn adalah **3566**, tebakan tidak churn yang sebenernya benar churn adalah **12** dan tebakan churn yang sebenernya tidak churn adalah **9**.\n",
    "- Dari data testing terlihat bahwasannya model mampu memprediksi data dengan menghasilkan akurasi sebesar **78%**, dengan detil tebakan churn yang sebenernya benar churn adalah **262**, tebakan tidak churn yang sebenernya tidak churn adalah **1360**, tebakan tidak churn yang sebenernya benar churn adalah **284** dan tebakan churn yang sebenernya tidak churn adalah **179**.\n"
   ]
  },
  {
   "cell_type": "markdown",
   "metadata": {},
   "source": [
    "## Modelling: Gradient Boosting Classifier\n",
    "### Pembuatan Model\n",
    "Membuat model dengan menggunakan Algoritma **Gradient Boosting Classifier**."
   ]
  },
  {
   "cell_type": "code",
   "execution_count": 27,
   "metadata": {},
   "outputs": [],
   "source": [
    "#Train the model\n",
    "gbt_model = GradientBoostingClassifier().fit(x_train, y_train)"
   ]
  },
  {
   "cell_type": "markdown",
   "metadata": {},
   "source": [
    "### Perfomansi Model Data Training - Menampilkan Metrics\n",
    "Melakukan perhitungan untuk memperoleh classification report dan confusion matrix di data training."
   ]
  },
  {
   "cell_type": "code",
   "execution_count": 28,
   "metadata": {},
   "outputs": [
    {
     "name": "stdout",
     "output_type": "stream",
     "text": [
      "Classification Report Training Model (Gradient Bossting) :\n",
      "              precision    recall  f1-score   support\n",
      "\n",
      "           0       0.84      0.92      0.88      3575\n",
      "           1       0.70      0.53      0.60      1290\n",
      "\n",
      "    accuracy                           0.82      4865\n",
      "   macro avg       0.77      0.72      0.74      4865\n",
      "weighted avg       0.81      0.82      0.81      4865\n",
      "\n"
     ]
    }
   ],
   "source": [
    "# Predict\n",
    "y_train_pred = gbt_model.predict(x_train)\n",
    "\n",
    "# Print classification report \n",
    "print('Classification Report Training Model (Gradient Bossting) :')\n",
    "print(classification_report(y_train, y_train_pred))"
   ]
  },
  {
   "cell_type": "markdown",
   "metadata": {},
   "source": [
    "### Perfomansi Model Data Training - Menampilkan Plots\n",
    "Tampilkan visualisasi dari metrics yang sudah dihasilkan sebelumnya "
   ]
  },
  {
   "cell_type": "code",
   "execution_count": 29,
   "metadata": {},
   "outputs": [
    {
     "data": {
      "text/html": [
       "<div>\n",
       "<style scoped>\n",
       "    .dataframe tbody tr th:only-of-type {\n",
       "        vertical-align: middle;\n",
       "    }\n",
       "\n",
       "    .dataframe tbody tr th {\n",
       "        vertical-align: top;\n",
       "    }\n",
       "\n",
       "    .dataframe thead th {\n",
       "        text-align: right;\n",
       "    }\n",
       "</style>\n",
       "<table border=\"1\" class=\"dataframe\">\n",
       "  <thead>\n",
       "    <tr style=\"text-align: right;\">\n",
       "      <th></th>\n",
       "      <th>No churn</th>\n",
       "      <th>Churn</th>\n",
       "    </tr>\n",
       "  </thead>\n",
       "  <tbody>\n",
       "    <tr>\n",
       "      <th>No churn</th>\n",
       "      <td>3286</td>\n",
       "      <td>289</td>\n",
       "    </tr>\n",
       "    <tr>\n",
       "      <th>Churn</th>\n",
       "      <td>606</td>\n",
       "      <td>684</td>\n",
       "    </tr>\n",
       "  </tbody>\n",
       "</table>\n",
       "</div>"
      ],
      "text/plain": [
       "          No churn  Churn\n",
       "No churn      3286    289\n",
       "Churn          606    684"
      ]
     },
     "execution_count": 29,
     "metadata": {},
     "output_type": "execute_result"
    }
   ],
   "source": [
    "# Form confusion matrix as a DataFrame\n",
    "confusion_matrix_df = pd.DataFrame((confusion_matrix(y_train, y_train_pred)), ('No churn', 'Churn'), ('No churn', 'Churn'))\n",
    "confusion_matrix_df"
   ]
  },
  {
   "cell_type": "code",
   "execution_count": 30,
   "metadata": {},
   "outputs": [
    {
     "data": {
      "image/png": "[encoded data removed]",
      "text/plain": [
       "<Figure size 432x288 with 2 Axes>"
      ]
     },
     "metadata": {},
     "output_type": "display_data"
    }
   ],
   "source": [
    "# Plot confusion matrix\n",
    "plt.figure()\n",
    "heatmap = sns.heatmap(confusion_matrix_df, annot=True, annot_kws={'size': 14}, fmt='d', cmap='YlGnBu')\n",
    "heatmap.yaxis.set_ticklabels(heatmap.yaxis.get_ticklabels(), rotation=0, ha='right', fontsize=14)\n",
    "heatmap.xaxis.set_ticklabels(heatmap.xaxis.get_ticklabels(), rotation=0, ha='right', fontsize=14)\n",
    "\n",
    "plt.title('Confusion Matrix for Training Model\\n(Gradient Boosting)', fontsize=18, color='darkblue')\n",
    "plt.ylabel('True label', fontsize=14)\n",
    "plt.xlabel('Predicted label', fontsize=14)\n",
    "plt.show()"
   ]
  },
  {
   "cell_type": "markdown",
   "metadata": {},
   "source": [
    "### Performansi Model Data Testing - Menampilkan Metrics\n",
    "Melakukan perhitungan untuk memperoleh classification reportnya dan confusion matrixnya di data testing"
   ]
  },
  {
   "cell_type": "code",
   "execution_count": 31,
   "metadata": {},
   "outputs": [
    {
     "name": "stdout",
     "output_type": "stream",
     "text": [
      "Classification Report Testing Model (Gradient Boosting):\n",
      "              precision    recall  f1-score   support\n",
      "\n",
      "           0       0.83      0.91      0.87      1539\n",
      "           1       0.64      0.48      0.55       546\n",
      "\n",
      "    accuracy                           0.79      2085\n",
      "   macro avg       0.74      0.69      0.71      2085\n",
      "weighted avg       0.78      0.79      0.78      2085\n",
      "\n"
     ]
    }
   ],
   "source": [
    "# Predict\n",
    "y_test_pred = gbt_model.predict(x_test)\n",
    "\n",
    "# Print classification report\n",
    "print('Classification Report Testing Model (Gradient Boosting):')\n",
    "print(classification_report(y_test, y_test_pred))"
   ]
  },
  {
   "cell_type": "markdown",
   "metadata": {},
   "source": [
    "### Performansi Model Data Testing - Menampilkan Plots\n",
    "Buatlah visualisasi dari metrics yang sudah dihasilkan sebelumnya"
   ]
  },
  {
   "cell_type": "code",
   "execution_count": 32,
   "metadata": {},
   "outputs": [
    {
     "data": {
      "text/html": [
       "<div>\n",
       "<style scoped>\n",
       "    .dataframe tbody tr th:only-of-type {\n",
       "        vertical-align: middle;\n",
       "    }\n",
       "\n",
       "    .dataframe tbody tr th {\n",
       "        vertical-align: top;\n",
       "    }\n",
       "\n",
       "    .dataframe thead th {\n",
       "        text-align: right;\n",
       "    }\n",
       "</style>\n",
       "<table border=\"1\" class=\"dataframe\">\n",
       "  <thead>\n",
       "    <tr style=\"text-align: right;\">\n",
       "      <th></th>\n",
       "      <th>No churn</th>\n",
       "      <th>Churn</th>\n",
       "    </tr>\n",
       "  </thead>\n",
       "  <tbody>\n",
       "    <tr>\n",
       "      <th>No churn</th>\n",
       "      <td>1394</td>\n",
       "      <td>145</td>\n",
       "    </tr>\n",
       "    <tr>\n",
       "      <th>Churn</th>\n",
       "      <td>285</td>\n",
       "      <td>261</td>\n",
       "    </tr>\n",
       "  </tbody>\n",
       "</table>\n",
       "</div>"
      ],
      "text/plain": [
       "          No churn  Churn\n",
       "No churn      1394    145\n",
       "Churn          285    261"
      ]
     },
     "execution_count": 32,
     "metadata": {},
     "output_type": "execute_result"
    }
   ],
   "source": [
    "# Form confusion matrix as a DataFrame\n",
    "confusion_matrix_df = pd.DataFrame((confusion_matrix(y_test, y_test_pred)), ('No churn', 'Churn'), ('No churn', 'Churn'))\n",
    "confusion_matrix_df"
   ]
  },
  {
   "cell_type": "code",
   "execution_count": 33,
   "metadata": {},
   "outputs": [
    {
     "data": {
      "image/png": "[encoded data removed]",
      "text/plain": [
       "<Figure size 432x288 with 2 Axes>"
      ]
     },
     "metadata": {},
     "output_type": "display_data"
    }
   ],
   "source": [
    "# Plot confusion matrix\n",
    "plt.figure()\n",
    "heatmap = sns.heatmap(confusion_matrix_df, annot=True, annot_kws={'size': 14}, fmt='d', cmap='YlGnBu')\n",
    "heatmap.yaxis.set_ticklabels(heatmap.yaxis.get_ticklabels(), rotation=0, ha='right', fontsize=14)\n",
    "heatmap.xaxis.set_ticklabels(heatmap.xaxis.get_ticklabels(), rotation=0, ha='right', fontsize=14)\n",
    "\n",
    "plt.title('Confusion Matrix for Testing Model\\n(Gradient Boosting)', fontsize=18, color='darkblue')\n",
    "plt.ylabel('True label', fontsize=14)\n",
    "plt.xlabel('Predicted label', fontsize=14)\n",
    "plt.show()"
   ]
  },
  {
   "cell_type": "markdown",
   "metadata": {},
   "source": [
    "## Kesimpulan\n",
    "Dari hasil dan analisa di atas, maka:\n",
    "- Dari data training terlihat bahwasannya model mampu memprediksi data dengan menghasilkan akurasi sebesar **82%**, dengan detil tebakan churn yang sebenernya benar churn adalah **684**, tebakan tidak churn yang sebenernya tidak churn adalah **3286**, tebakan tidak churn yang sebenernya benar churn adalah **606** dan tebakan churn yang sebenernya tidak churn adalah **289**.\n",
    "- Dari data testing terlihat bahwasannya model mampu memprediksi data dengan menghasilkan akurasi sebesar **79%**, dengan detil tebakan churn yang sebenernya benar churn adalah **261**, tebakan tidak churn yang sebenernya tidak churn adalah **1394**, tebakan tidak churn yang sebenernya benar churn adalah **285** dan tebakan churn yang sebenernya tidak churn adalah **145**."
   ]
  },
  {
   "cell_type": "markdown",
   "metadata": {},
   "source": [
    "## Menentukan Algoritma Model Terbaik\n",
    "Model yang baik adalah model yang mampu memberikan performa bagus di fase training dan testing model.\n",
    "- **Over-Fitting** adalah suatu kondisi dimana model mampu memprediksi dengan sangat baik di fase training, akan tetapi tidak mampu memprediksi sama baiknya di fase testing.\n",
    "- **Under-Fitting** adalah suatu kondisi dimana model kurang mampu memprediksi dengan baik di fase training, akan tetapi mampu memprediksi dengan baik di fase testing.\n",
    "- **Appropriate-Fitting** adalah suatu kondisi dimana model mampu memprediksi dengan baik di fase training maupun di fase testing."
   ]
  },
  {
   "cell_type": "markdown",
   "metadata": {},
   "source": [
    "# Kesimpulan\n",
    "Berdasarkan pemodelan yang telah dilakukan dengan menggunakan **Logistic Regression, Random Forest dan Extreme Gradiant Boost**, maka dapat disimpulkan:\n",
    "- untuk memprediksi churn dari pelanggan dengan menggunakan dataset ini model terbaiknya adalah menggunakan algortima Logistic Regression. \n",
    "- hal ini dikarenakan performa dari model Logistic Regression cenderung mampu memprediksi sama baiknya di fase training maupun testing (akurasi training 80%, akurasi testing 79%)\n",
    "- dilain sisi algoritma lainnya cenderung Over-Fitting performanya. \n",
    "- hal ini tidak menjadikan kita untuk menarik kesimpulan bahwsannya jika untuk melakukan pemodelan apapun maka digunakan Logistic Regression\n",
    "- kita tetap harus melakukan banyak percobaan model untuk menentukan mana yang terbaik."
   ]
  },
  {
   "cell_type": "code",
   "execution_count": null,
   "metadata": {},
   "outputs": [],
   "source": []
  }
 ],
 "metadata": {
  "kernelspec": {
   "display_name": "Python 3",
   "language": "python",
   "name": "python3"
  },
  "language_info": {
   "codemirror_mode": {
    "name": "ipython",
    "version": 3
   },
   "file_extension": ".py",
   "mimetype": "text/x-python",
   "name": "python",
   "nbconvert_exporter": "python",
   "pygments_lexer": "ipython3",
   "version": "3.8.3"
  }
 },
 "nbformat": 4,
 "nbformat_minor": 4
}
